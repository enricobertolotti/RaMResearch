{
 "cells": [
  {
   "cell_type": "markdown",
   "metadata": {},
   "source": [
    "# Library Import\n",
    "Import all necessary libraries for the project"
   ]
  },
  {
   "cell_type": "code",
   "execution_count": 6,
   "metadata": {},
   "outputs": [
    {
     "name": "stdout",
     "output_type": "stream",
     "text": [
      "Populating the interactive namespace from numpy and matplotlib\n"
     ]
    }
   ],
   "source": [
    "from RaMResearch import LoadData as ld, DataStructs as ds, Interfaces as intrfce\n",
    "%pylab inline"
   ]
  },
  {
   "cell_type": "markdown",
   "metadata": {
    "slideshow": {
     "slide_type": "subslide"
    },
    "tags": [
     "Load",
     "Data"
    ]
   },
   "source": [
    "# Importing Data\n",
    "This imports the 3D Dicom files into a 3D numpy array."
   ]
  },
  {
   "cell_type": "code",
   "execution_count": 11,
   "metadata": {},
   "outputs": [
    {
     "name": "stdout",
     "output_type": "stream",
     "text": [
      "[('RaMData/Test1Subtraction130088_First_130088_First(5)_mod_rest.dcm', 'RaMData/Test1Subtraction130088_First_130088_First(5)_mod_rest.tif'), ('RaMData/Test1Subtraction130088_First_130088_First_mod_rest.dcm', 'RaMData/Test1Subtraction130088_First_130088_First_mod_rest.tif')]\n"
     ]
    }
   ],
   "source": [
    "folderpath = \"RaMData/Test1Subtraction\"\n",
    "exampleImage_names = ld.get_dicom_filepairs(folderpath)\n",
    "print(exampleImage_names)\n",
    "#dicomobject = ld.create_dicom_object(exampleImage_names)"
   ]
  },
  {
   "cell_type": "code",
   "execution_count": null,
   "metadata": {},
   "outputs": [],
   "source": []
  },
  {
   "cell_type": "code",
   "execution_count": null,
   "metadata": {},
   "outputs": [],
   "source": []
  }
 ],
 "metadata": {
  "kernelspec": {
   "display_name": "BScAssignment",
   "language": "python",
   "name": "bscassignment"
  },
  "language_info": {
   "codemirror_mode": {
    "name": "ipython",
    "version": 3
   },
   "file_extension": ".py",
   "mimetype": "text/x-python",
   "name": "python",
   "nbconvert_exporter": "python",
   "pygments_lexer": "ipython3",
   "version": "3.7.3"
  }
 },
 "nbformat": 4,
 "nbformat_minor": 4
}
